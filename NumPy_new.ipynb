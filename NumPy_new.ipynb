{
 "cells": [
  {
   "cell_type": "markdown",
   "id": "6abc5cda",
   "metadata": {},
   "source": [
    "## Load in NumPy "
   ]
  },
  {
   "cell_type": "code",
   "execution_count": 1,
   "id": "f260fd32",
   "metadata": {},
   "outputs": [],
   "source": [
    "import numpy as np"
   ]
  },
  {
   "cell_type": "markdown",
   "id": "999287bd",
   "metadata": {},
   "source": [
    "## The Basics"
   ]
  },
  {
   "cell_type": "code",
   "execution_count": 2,
   "id": "0cd8d227",
   "metadata": {},
   "outputs": [
    {
     "name": "stdout",
     "output_type": "stream",
     "text": [
      "[1 2 3]\n"
     ]
    }
   ],
   "source": [
    "a = np.array([1,2,3], dtype='int32')\n",
    "print(a)"
   ]
  },
  {
   "cell_type": "code",
   "execution_count": 3,
   "id": "5b16705d",
   "metadata": {},
   "outputs": [
    {
     "name": "stdout",
     "output_type": "stream",
     "text": [
      "[[9. 8. 7.]\n",
      " [6. 5. 4.]]\n"
     ]
    }
   ],
   "source": [
    "b = np.array([[9.0,8.0,7.0],[6.0,5.0,4.0]])\n",
    "print(b)"
   ]
  },
  {
   "cell_type": "code",
   "execution_count": 4,
   "id": "8b8f412a",
   "metadata": {},
   "outputs": [
    {
     "data": {
      "text/plain": [
       "1"
      ]
     },
     "execution_count": 4,
     "metadata": {},
     "output_type": "execute_result"
    }
   ],
   "source": [
    "# Get Dimension\n",
    "a.ndim"
   ]
  },
  {
   "cell_type": "code",
   "execution_count": 5,
   "id": "8cc1beb2",
   "metadata": {},
   "outputs": [
    {
     "data": {
      "text/plain": [
       "(2, 3)"
      ]
     },
     "execution_count": 5,
     "metadata": {},
     "output_type": "execute_result"
    }
   ],
   "source": [
    "# Get Shape\n",
    "b.shape"
   ]
  },
  {
   "cell_type": "code",
   "execution_count": 6,
   "id": "5ee22863",
   "metadata": {},
   "outputs": [
    {
     "data": {
      "text/plain": [
       "dtype('int32')"
      ]
     },
     "execution_count": 6,
     "metadata": {},
     "output_type": "execute_result"
    }
   ],
   "source": [
    "# Get Type\n",
    "a.dtype"
   ]
  },
  {
   "cell_type": "code",
   "execution_count": 7,
   "id": "22975ae8",
   "metadata": {},
   "outputs": [
    {
     "data": {
      "text/plain": [
       "4"
      ]
     },
     "execution_count": 7,
     "metadata": {},
     "output_type": "execute_result"
    }
   ],
   "source": [
    "# Get Size\n",
    "a.itemsize"
   ]
  },
  {
   "cell_type": "code",
   "execution_count": 8,
   "id": "e940a84a",
   "metadata": {},
   "outputs": [
    {
     "data": {
      "text/plain": [
       "12"
      ]
     },
     "execution_count": 8,
     "metadata": {},
     "output_type": "execute_result"
    }
   ],
   "source": [
    "# Get total size\n",
    "a.nbytes"
   ]
  },
  {
   "cell_type": "code",
   "execution_count": 9,
   "id": "168affcb",
   "metadata": {},
   "outputs": [
    {
     "data": {
      "text/plain": [
       "3"
      ]
     },
     "execution_count": 9,
     "metadata": {},
     "output_type": "execute_result"
    }
   ],
   "source": [
    "# Get number of elements\n",
    "a.size"
   ]
  },
  {
   "cell_type": "markdown",
   "id": "223532f6",
   "metadata": {},
   "source": [
    "## Accessing/Changing specific elements, rows, columns, etc"
   ]
  },
  {
   "cell_type": "code",
   "execution_count": 10,
   "id": "fc210a0e",
   "metadata": {},
   "outputs": [
    {
     "name": "stdout",
     "output_type": "stream",
     "text": [
      "[[ 1  2  3  4  5  6  7]\n",
      " [ 8  9 10 11 12 13 14]]\n"
     ]
    }
   ],
   "source": [
    "a = np.array([[1,2,3,4,5,6,7],[8,9,10,11,12,13,14]])\n",
    "print(a)"
   ]
  },
  {
   "cell_type": "code",
   "execution_count": 11,
   "id": "2ab2c42b",
   "metadata": {},
   "outputs": [
    {
     "data": {
      "text/plain": [
       "13"
      ]
     },
     "execution_count": 11,
     "metadata": {},
     "output_type": "execute_result"
    }
   ],
   "source": [
    "# Get a specific element [r, c]\n",
    "a[1, 5]"
   ]
  },
  {
   "cell_type": "code",
   "execution_count": 12,
   "id": "4559bcee",
   "metadata": {},
   "outputs": [
    {
     "data": {
      "text/plain": [
       "array([1, 2, 3, 4, 5, 6, 7])"
      ]
     },
     "execution_count": 12,
     "metadata": {},
     "output_type": "execute_result"
    }
   ],
   "source": [
    "# Get a specific row \n",
    "a[0, :]"
   ]
  },
  {
   "cell_type": "code",
   "execution_count": 13,
   "id": "16f5a982",
   "metadata": {},
   "outputs": [
    {
     "data": {
      "text/plain": [
       "array([ 3, 10])"
      ]
     },
     "execution_count": 13,
     "metadata": {},
     "output_type": "execute_result"
    }
   ],
   "source": [
    "# Get a specific column\n",
    "a[:, 2]"
   ]
  },
  {
   "cell_type": "code",
   "execution_count": 14,
   "id": "0625a67b",
   "metadata": {},
   "outputs": [
    {
     "data": {
      "text/plain": [
       "array([2, 4, 6])"
      ]
     },
     "execution_count": 14,
     "metadata": {},
     "output_type": "execute_result"
    }
   ],
   "source": [
    "# Getting a little more fancy [startindex:endindex:stepsize]\n",
    "a[0, 1:-1:2]"
   ]
  },
  {
   "cell_type": "code",
   "execution_count": 15,
   "id": "f4d8b4c8",
   "metadata": {},
   "outputs": [
    {
     "name": "stdout",
     "output_type": "stream",
     "text": [
      "[[ 1  2  1  4  5  6  7]\n",
      " [ 8  9  2 11 12 20 14]]\n"
     ]
    }
   ],
   "source": [
    "a = np.array([[1,2,3,4,5,6,7],[8,9,10,11,12,13,14]])  # تعريف مصفوفة a مكونة من صفين وسبعة أعمدة\n",
    "\n",
    "a[1,5] = 20  # تغيير القيمة في الصف الثاني والعمود السادس إلى 20\n",
    "\n",
    "a[:,2] = [1,2]  # تغيير القيم في العمود الثالث ليصبح الصف الأول 1 والصف الثاني 2\n",
    "\n",
    "print(a)  # طباعة المصفوفة النهائية"
   ]
  },
  {
   "cell_type": "code",
   "execution_count": 16,
   "id": "c83e45fc",
   "metadata": {},
   "outputs": [
    {
     "name": "stdout",
     "output_type": "stream",
     "text": [
      "[[[1 2]\n",
      "  [3 4]]\n",
      "\n",
      " [[5 6]\n",
      "  [7 8]]]\n"
     ]
    }
   ],
   "source": [
    "b = np.array([[[1,2],[3,4]],[[5,6],[7,8]]])  # تعريف مصفوفة b ثلاثية الأبعاد\n",
    "\n",
    "print(b)  # طباعة المصفوفة b"
   ]
  },
  {
   "cell_type": "code",
   "execution_count": 17,
   "id": "28001532",
   "metadata": {},
   "outputs": [
    {
     "data": {
      "text/plain": [
       "4"
      ]
     },
     "execution_count": 17,
     "metadata": {},
     "output_type": "execute_result"
    }
   ],
   "source": [
    "# الحصول على عنصر محدد (العمل من الخارج إلى الداخل)\n",
    "b[0,1,1]  # الوصول إلى العنصر في الصف الأول، الصف الثاني، والعمود الثاني"
   ]
  },
  {
   "cell_type": "code",
   "execution_count": 19,
   "id": "012781c3",
   "metadata": {},
   "outputs": [],
   "source": [
    "# استبدال\n",
    "b[:,1,:] = [[9,9],[8,8]]  # استبدال الصفوف الثانية في كل قطاع بالقيم المعطاة"
   ]
  },
  {
   "cell_type": "code",
   "execution_count": 20,
   "id": "5bd5343c",
   "metadata": {},
   "outputs": [
    {
     "data": {
      "text/plain": [
       "array([[[1, 2],\n",
       "        [9, 9]],\n",
       "\n",
       "       [[5, 6],\n",
       "        [8, 8]]])"
      ]
     },
     "execution_count": 20,
     "metadata": {},
     "output_type": "execute_result"
    }
   ],
   "source": [
    "b"
   ]
  },
  {
   "cell_type": "markdown",
   "id": "34c733f3",
   "metadata": {},
   "source": [
    "## Initializing Different Types of Arrays"
   ]
  },
  {
   "cell_type": "code",
   "execution_count": 21,
   "id": "66b153e2",
   "metadata": {},
   "outputs": [
    {
     "data": {
      "text/plain": [
       "array([[0., 0., 0.],\n",
       "       [0., 0., 0.]])"
      ]
     },
     "execution_count": 21,
     "metadata": {},
     "output_type": "execute_result"
    }
   ],
   "source": [
    "# مصفوفة من الصفر\n",
    "np.zeros((2,3))  # إنشاء مصفوفة جديدة بأبعاد (2, 3) وتعبئتها بالصفر"
   ]
  },
  {
   "cell_type": "code",
   "execution_count": 22,
   "id": "6cbebd57",
   "metadata": {},
   "outputs": [
    {
     "data": {
      "text/plain": [
       "array([[[1, 1],\n",
       "        [1, 1]],\n",
       "\n",
       "       [[1, 1],\n",
       "        [1, 1]],\n",
       "\n",
       "       [[1, 1],\n",
       "        [1, 1]],\n",
       "\n",
       "       [[1, 1],\n",
       "        [1, 1]]])"
      ]
     },
     "execution_count": 22,
     "metadata": {},
     "output_type": "execute_result"
    }
   ],
   "source": [
    "# مصفوفة من الواحدات\n",
    "np.ones((4,2,2), dtype='int32')  # إنشاء مصفوفة جديدة بأبعاد (4, 2, 2) وتعبئتها بالواحدات ونوع البيانات هو int32"
   ]
  },
  {
   "cell_type": "code",
   "execution_count": 23,
   "id": "aed46516",
   "metadata": {},
   "outputs": [
    {
     "data": {
      "text/plain": [
       "array([[99, 99],\n",
       "       [99, 99]])"
      ]
     },
     "execution_count": 23,
     "metadata": {},
     "output_type": "execute_result"
    }
   ],
   "source": [
    "# رقم آخر أي\n",
    "np.full((2,2), 99)  # إنشاء مصفوفة جديدة بأبعاد (2, 2) وتعبئتها بالرقم 99"
   ]
  },
  {
   "cell_type": "code",
   "execution_count": 24,
   "id": "603660b4",
   "metadata": {},
   "outputs": [
    {
     "data": {
      "text/plain": [
       "array([[4, 4, 4, 4, 4, 4, 4],\n",
       "       [4, 4, 4, 4, 4, 4, 4]])"
      ]
     },
     "execution_count": 24,
     "metadata": {},
     "output_type": "execute_result"
    }
   ],
   "source": [
    "# رقم آخر أي (full_like)\n",
    "np.full_like(a, 4)  # إنشاء مصفوفة جديدة بنفس الأبعاد مثل المصفوفة a وتعبئتها بالرقم 4"
   ]
  },
  {
   "cell_type": "code",
   "execution_count": 25,
   "id": "a9b7ae02",
   "metadata": {},
   "outputs": [
    {
     "data": {
      "text/plain": [
       "array([[0.90674   , 0.92790296],\n",
       "       [0.31452032, 0.66360971],\n",
       "       [0.08255109, 0.37383825],\n",
       "       [0.95935619, 0.54757337]])"
      ]
     },
     "execution_count": 25,
     "metadata": {},
     "output_type": "execute_result"
    }
   ],
   "source": [
    "# أرقام عشوائية عشرية\n",
    "np.random.rand(4,2)  # إنشاء مصفوفة جديدة بأبعاد (4, 2) وتعبئتها بأرقام عشوائية بين 0 و1"
   ]
  },
  {
   "cell_type": "code",
   "execution_count": 26,
   "id": "81999ab6",
   "metadata": {},
   "outputs": [
    {
     "data": {
      "text/plain": [
       "array([[-3,  2, -4],\n",
       "       [-1,  0,  3],\n",
       "       [ 6,  0,  1]])"
      ]
     },
     "execution_count": 26,
     "metadata": {},
     "output_type": "execute_result"
    }
   ],
   "source": [
    "# قيم صحيحة عشوائية\n",
    "np.random.randint(-4, 8, size=(3,3))  # إنشاء مصفوفة جديدة بأبعاد (3, 3) وتعبئتها بأرقام صحيحة عشوائية بين -4 و 7"
   ]
  },
  {
   "cell_type": "code",
   "execution_count": 27,
   "id": "d0b2d618",
   "metadata": {},
   "outputs": [
    {
     "data": {
      "text/plain": [
       "array([[1., 0., 0., 0., 0.],\n",
       "       [0., 1., 0., 0., 0.],\n",
       "       [0., 0., 1., 0., 0.],\n",
       "       [0., 0., 0., 1., 0.],\n",
       "       [0., 0., 0., 0., 1.]])"
      ]
     },
     "execution_count": 27,
     "metadata": {},
     "output_type": "execute_result"
    }
   ],
   "source": [
    "# المصفوفة الهوية\n",
    "np.identity(5)  # إنشاء مصفوفة هوية بحجم 5x5"
   ]
  },
  {
   "cell_type": "code",
   "execution_count": 28,
   "id": "7baf4cfa",
   "metadata": {},
   "outputs": [
    {
     "name": "stdout",
     "output_type": "stream",
     "text": [
      "[[1 2 3]\n",
      " [1 2 3]\n",
      " [1 2 3]]\n"
     ]
    }
   ],
   "source": [
    "# تكرار مصفوفة\n",
    "arr = np.array([[1,2,3]])  # تعريف مصفوفة arr\n",
    "r1 = np.repeat(arr, 3, axis=0)  # تكرار المصفوفة arr ثلاث مرات في الاتجاه الرأسي\n",
    "print(r1)  # طباعة المصفوفة المكررة"
   ]
  },
  {
   "cell_type": "code",
   "execution_count": 29,
   "id": "0f88a976",
   "metadata": {},
   "outputs": [
    {
     "name": "stdout",
     "output_type": "stream",
     "text": [
      "[[1. 1. 1. 1. 1.]\n",
      " [1. 1. 1. 1. 1.]\n",
      " [1. 1. 1. 1. 1.]\n",
      " [1. 1. 1. 1. 1.]\n",
      " [1. 1. 1. 1. 1.]]\n",
      "[[0. 0. 0.]\n",
      " [0. 9. 0.]\n",
      " [0. 0. 0.]]\n",
      "[[1. 1. 1. 1. 1.]\n",
      " [1. 0. 0. 0. 1.]\n",
      " [1. 0. 9. 0. 1.]\n",
      " [1. 0. 0. 0. 1.]\n",
      " [1. 1. 1. 1. 1.]]\n"
     ]
    }
   ],
   "source": [
    "# إنشاء مصفوفة مكونة من عناصر واحدة\n",
    "output = np.ones((5,5))  # إنشاء مصفوفة 5x5 مع جميع العناصر تساوي 1\n",
    "print(output)\n",
    "\n",
    "# إنشاء مصفوفة مكونة من صفرات وتعديل القيمة في الموضع (1,1) إلى 9\n",
    "z = np.zeros((3,3))  # إنشاء مصفوفة 3x3 مع جميع العناصر تساوي 0\n",
    "z[1,1] = 9  # تعديل القيمة في الموضع (1,1) لتكون 9\n",
    "print(z)\n",
    "\n",
    "# الإنتقاء بالتزاوج وتعيين قيم المصفوفة output في المنطقة الوسطى بقيم من المصفوفة z\n",
    "output[1:-1,1:-1] = z  # الإنتقاء بالتزاوج وتعيين القيم في المصفوفة output في المنطقة الوسطى بقيم من المصفوفة z\n",
    "print(output)"
   ]
  },
  {
   "cell_type": "code",
   "execution_count": 30,
   "id": "62e91431",
   "metadata": {},
   "outputs": [
    {
     "name": "stdout",
     "output_type": "stream",
     "text": [
      "[1 2 3]\n"
     ]
    }
   ],
   "source": [
    "a = np.array([1,2,3])  # تعريف مصفوفة a مكونة من العناصر [1, 2, 3]\n",
    "b = a.copy()  # نسخ المصفوفة a إلى المصفوفة b\n",
    "b[0] = 100  # تعديل العنصر الأول في المصفوفة b إلى قيمة 100\n",
    "print(a)  # طباعة المصفوفة a"
   ]
  },
  {
   "cell_type": "markdown",
   "id": "141b2b90",
   "metadata": {},
   "source": [
    "## Mathematics"
   ]
  },
  {
   "cell_type": "code",
   "execution_count": 31,
   "id": "5c70d8a4",
   "metadata": {},
   "outputs": [
    {
     "name": "stdout",
     "output_type": "stream",
     "text": [
      "[1 2 3 4]\n"
     ]
    }
   ],
   "source": [
    "a = np.array([1,2,3,4])  # إنشاء مصفوفة a مكونة من العناصر [1, 2, 3, 4]\n",
    "print(a)  # طباعة المصفوفة a"
   ]
  },
  {
   "cell_type": "code",
   "execution_count": 32,
   "id": "96248267",
   "metadata": {},
   "outputs": [
    {
     "data": {
      "text/plain": [
       "array([3, 4, 5, 6])"
      ]
     },
     "execution_count": 32,
     "metadata": {},
     "output_type": "execute_result"
    }
   ],
   "source": [
    "a + 2  # إضافة العدد 2 إلى كل عنصر في المصفوفة a"
   ]
  },
  {
   "cell_type": "code",
   "execution_count": 33,
   "id": "81528135",
   "metadata": {},
   "outputs": [
    {
     "data": {
      "text/plain": [
       "array([-1,  0,  1,  2])"
      ]
     },
     "execution_count": 33,
     "metadata": {},
     "output_type": "execute_result"
    }
   ],
   "source": [
    "a - 2  # طرح العدد 2 من كل عنصر في المصفوفة a"
   ]
  },
  {
   "cell_type": "code",
   "execution_count": 34,
   "id": "ad10b9d9",
   "metadata": {},
   "outputs": [
    {
     "data": {
      "text/plain": [
       "array([2, 4, 6, 8])"
      ]
     },
     "execution_count": 34,
     "metadata": {},
     "output_type": "execute_result"
    }
   ],
   "source": [
    "a * 2  # ضرب كل عنصر في المصفوفة a في العدد 2"
   ]
  },
  {
   "cell_type": "code",
   "execution_count": 36,
   "id": "961df50f",
   "metadata": {},
   "outputs": [
    {
     "data": {
      "text/plain": [
       "array([2, 2, 4, 4])"
      ]
     },
     "execution_count": 36,
     "metadata": {},
     "output_type": "execute_result"
    }
   ],
   "source": [
    "b = np.array([1,0,1,0])\n",
    "a + b  # إجراء العملية الحسابية العنصرية (element-wise) بين المصفوفة a والمصفوفة b"
   ]
  },
  {
   "cell_type": "code",
   "execution_count": 37,
   "id": "d51add4f",
   "metadata": {},
   "outputs": [
    {
     "data": {
      "text/plain": [
       "array([ 1,  4,  9, 16])"
      ]
     },
     "execution_count": 37,
     "metadata": {},
     "output_type": "execute_result"
    }
   ],
   "source": [
    "a ** 2  # رفع كل عنصر في المصفوفة a إلى القوة الثانية"
   ]
  },
  {
   "cell_type": "code",
   "execution_count": 38,
   "id": "61ea090c",
   "metadata": {},
   "outputs": [
    {
     "data": {
      "text/plain": [
       "array([ 0.54030231, -0.41614684, -0.9899925 , -0.65364362])"
      ]
     },
     "execution_count": 38,
     "metadata": {},
     "output_type": "execute_result"
    }
   ],
   "source": [
    "np.cos(a)  # حساب الدالة الكوسينوس لكل عنصر في المصفوفة a"
   ]
  },
  {
   "cell_type": "markdown",
   "id": "57bcdacd",
   "metadata": {},
   "source": [
    "## Linear Algebra"
   ]
  },
  {
   "cell_type": "code",
   "execution_count": 39,
   "id": "ccc1df35",
   "metadata": {},
   "outputs": [
    {
     "name": "stdout",
     "output_type": "stream",
     "text": [
      "[[1. 1. 1.]\n",
      " [1. 1. 1.]]\n",
      "[[2 2]\n",
      " [2 2]\n",
      " [2 2]]\n"
     ]
    },
    {
     "data": {
      "text/plain": [
       "array([[6., 6.],\n",
       "       [6., 6.]])"
      ]
     },
     "execution_count": 39,
     "metadata": {},
     "output_type": "execute_result"
    }
   ],
   "source": [
    "a = np.ones((2,3))\n",
    "print(a)\n",
    "\n",
    "# إنشاء مصفوفة ممتلئة بالقيمة 2 بنفس أبعاد المصفوفة a\n",
    "b = np.full((3,2), 2)\n",
    "print(b)\n",
    "\n",
    "np.matmul(a,b)  # إجراء عملية الضرب النقطي بين المصفوفة a والمصفوفة b"
   ]
  },
  {
   "cell_type": "code",
   "execution_count": 40,
   "id": "687b599c",
   "metadata": {},
   "outputs": [
    {
     "data": {
      "text/plain": [
       "1.0"
      ]
     },
     "execution_count": 40,
     "metadata": {},
     "output_type": "execute_result"
    }
   ],
   "source": [
    "c = np.identity(3)  # إنشاء مصفوفة هوية بحجم 3x3\n",
    "np.linalg.det(c)  # حساب المحدد (التعيين) للمصفوفة c"
   ]
  },
  {
   "cell_type": "markdown",
   "id": "2cc5b86a",
   "metadata": {},
   "source": [
    "## Statistics"
   ]
  },
  {
   "cell_type": "code",
   "execution_count": 41,
   "id": "4921d586",
   "metadata": {},
   "outputs": [],
   "source": [
    "stats = np.array([[1,2,3],[4,5,6]])  # هنا الأمثلة الإحصائية بالصورة دي: \n",
    "                                     # 1, 2, 3\n",
    "                                     # 4, 5, 6"
   ]
  },
  {
   "cell_type": "code",
   "execution_count": 42,
   "id": "8830cea9",
   "metadata": {},
   "outputs": [
    {
     "data": {
      "text/plain": [
       "array([[1, 2, 3],\n",
       "       [4, 5, 6]])"
      ]
     },
     "execution_count": 42,
     "metadata": {},
     "output_type": "execute_result"
    }
   ],
   "source": [
    "stats"
   ]
  },
  {
   "cell_type": "code",
   "execution_count": 43,
   "id": "4374edc5",
   "metadata": {},
   "outputs": [
    {
     "data": {
      "text/plain": [
       "1"
      ]
     },
     "execution_count": 43,
     "metadata": {},
     "output_type": "execute_result"
    }
   ],
   "source": [
    "np.min(stats)  # اختارلي الأصغر في المصفوفة دي"
   ]
  },
  {
   "cell_type": "code",
   "execution_count": 44,
   "id": "1ad77f19",
   "metadata": {},
   "outputs": [
    {
     "data": {
      "text/plain": [
       "array([3, 6])"
      ]
     },
     "execution_count": 44,
     "metadata": {},
     "output_type": "execute_result"
    }
   ],
   "source": [
    "np.max(stats, axis=1)  # لو حبيت تجيبلي أكبر حاجة في كل صف في المصفوفة دي"
   ]
  },
  {
   "cell_type": "code",
   "execution_count": 45,
   "id": "08b81cc0",
   "metadata": {},
   "outputs": [
    {
     "data": {
      "text/plain": [
       "array([5, 7, 9])"
      ]
     },
     "execution_count": 45,
     "metadata": {},
     "output_type": "execute_result"
    }
   ],
   "source": [
    "np.sum(stats, axis=0)  # اجمعلي القيم في كل عمود في المصفوفة دي"
   ]
  },
  {
   "cell_type": "markdown",
   "id": "b47f91bf",
   "metadata": {},
   "source": [
    "## Reorganizing Arrays"
   ]
  },
  {
   "cell_type": "code",
   "execution_count": 47,
   "id": "0f36d8ea",
   "metadata": {},
   "outputs": [
    {
     "name": "stdout",
     "output_type": "stream",
     "text": [
      "[[1 2 3 4]\n",
      " [5 6 7 8]]\n",
      "[[1 2]\n",
      " [3 4]\n",
      " [5 6]\n",
      " [7 8]]\n"
     ]
    }
   ],
   "source": [
    "before = np.array([[1,2,3,4],[5,6,7,8]])\n",
    "print(before)  # ده الشكل الأول قبل ما نغيره\n",
    "\n",
    "after = before.reshape((4,2))\n",
    "print(after)  # ده الشكل بعد ما غيرنا الشكل بتاعه"
   ]
  },
  {
   "cell_type": "code",
   "execution_count": 48,
   "id": "cea6f5dc",
   "metadata": {},
   "outputs": [
    {
     "data": {
      "text/plain": [
       "array([[1, 2, 3, 4],\n",
       "       [5, 6, 7, 8],\n",
       "       [1, 2, 3, 4],\n",
       "       [5, 6, 7, 8]])"
      ]
     },
     "execution_count": 48,
     "metadata": {},
     "output_type": "execute_result"
    }
   ],
   "source": [
    "v1 = np.array([1,2,3,4])\n",
    "v2 = np.array([5,6,7,8])\n",
    "\n",
    "np.vstack([v1,v2,v1,v2])"
   ]
  },
  {
   "cell_type": "code",
   "execution_count": 49,
   "id": "945b8450",
   "metadata": {},
   "outputs": [
    {
     "data": {
      "text/plain": [
       "array([[1., 1., 1., 1., 0., 0.],\n",
       "       [1., 1., 1., 1., 0., 0.]])"
      ]
     },
     "execution_count": 49,
     "metadata": {},
     "output_type": "execute_result"
    }
   ],
   "source": [
    "h1 = np.ones((2,4))\n",
    "h2 = np.zeros((2,2))\n",
    "\n",
    "np.hstack((h1,h2))  "
   ]
  },
  {
   "cell_type": "markdown",
   "id": "2bb2b52b",
   "metadata": {},
   "source": [
    "## Miscellaneous"
   ]
  },
  {
   "cell_type": "code",
   "execution_count": 50,
   "id": "07f9e9d8",
   "metadata": {},
   "outputs": [
    {
     "name": "stdout",
     "output_type": "stream",
     "text": [
      "[[  1  13  21  11 196  75   4   3  34   6   7   8   0   1   2   3   4   5]\n",
      " [  3  42  12  33 766  75   4  55   6   4   3   4   5   6   7   0  11  12]\n",
      " [  1  22  33  11 999  11   2   1  78   0   1   2   9   8   7   1  76  88]]\n"
     ]
    }
   ],
   "source": [
    "filedata = np.genfromtxt('data.txt', delimiter=',')  # قراءة البيانات من الملف باستخدام الفاصلة كمحدد\n",
    "filedata = filedata.astype('int32')  # تحويل نوع البيانات إلى int32\n",
    "print(filedata)  # طباعة البيانات"
   ]
  },
  {
   "cell_type": "markdown",
   "id": "dc4a057a",
   "metadata": {},
   "source": [
    "## Boolean Masking and Advanced Indexing "
   ]
  },
  {
   "cell_type": "code",
   "execution_count": 51,
   "id": "64da7026",
   "metadata": {},
   "outputs": [
    {
     "data": {
      "text/plain": [
       "array([[ True,  True,  True,  True,  True, False,  True,  True,  True,\n",
       "         True,  True,  True,  True,  True,  True,  True,  True,  True],\n",
       "       [ True,  True,  True,  True,  True, False,  True, False,  True,\n",
       "         True,  True,  True,  True,  True,  True,  True,  True,  True],\n",
       "       [ True,  True,  True,  True,  True,  True,  True,  True, False,\n",
       "         True,  True,  True,  True,  True,  True,  True, False, False]])"
      ]
     },
     "execution_count": 51,
     "metadata": {},
     "output_type": "execute_result"
    }
   ],
   "source": [
    "(~((filedata > 50) & (filedata < 100)))  # إجراء عملية منطقية NOT على المصفوفة filedata مع الشرط (filedata > 50) & (filedata < 100)"
   ]
  },
  {
   "cell_type": "code",
   "execution_count": null,
   "id": "44c1d984",
   "metadata": {},
   "outputs": [],
   "source": []
  }
 ],
 "metadata": {
  "kernelspec": {
   "display_name": "Python 3 (ipykernel)",
   "language": "python",
   "name": "python3"
  },
  "language_info": {
   "codemirror_mode": {
    "name": "ipython",
    "version": 3
   },
   "file_extension": ".py",
   "mimetype": "text/x-python",
   "name": "python",
   "nbconvert_exporter": "python",
   "pygments_lexer": "ipython3",
   "version": "3.11.5"
  }
 },
 "nbformat": 4,
 "nbformat_minor": 5
}
